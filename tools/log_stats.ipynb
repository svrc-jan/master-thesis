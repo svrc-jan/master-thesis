{
 "cells": [
  {
   "cell_type": "code",
   "execution_count": 2,
   "metadata": {},
   "outputs": [],
   "source": [
    "import sys\n",
    "import glob\n",
    "\n",
    "import numpy as np\n",
    "import pandas as pd\n"
   ]
  },
  {
   "cell_type": "code",
   "execution_count": 10,
   "metadata": {},
   "outputs": [],
   "source": [
    "def get_traj(file):\n",
    "\tdf = pd.read_csv(file, names=('tag', 'ts', 'v1', 'v2', 'v3', 'v4'))\n",
    "\n",
    "\tdf_s = df[df.tag == 'pos']\n",
    "\tdf_s = df_s.rename(columns={'v1' : 'x', 'v2' : 'y', 'v3' : 'z', 'v4' : 'a'})\n",
    "\n",
    "\n",
    "\tdf_u = df[df.tag == 'input']\n",
    "\tdf_u = df_u.rename(columns={'v1' : 'roll', 'v2' : 'pitch', 'v3' : 'yaw', 'v4' : 'throttle'})\n",
    "\n",
    "\tx, y, z, a = [df_s[v].to_numpy() for v in ['x', 'y', 'z', 'a']]\n",
    "\troll, pitch, yaw, throttle = [df_u[v].to_numpy() for v in ['roll', 'pitch', 'yaw', 'throttle']]\n",
    "\t\n",
    "\ts = np.stack([x, y, z, a]).T\n",
    "\tu = np.stack([roll, pitch, yaw, throttle]).T\n",
    "\n",
    "\n",
    "\treturn (s, u)"
   ]
  },
  {
   "cell_type": "code",
   "execution_count": 14,
   "metadata": {},
   "outputs": [],
   "source": [
    "logs_folder = '../logs/ident/filt'\n",
    "logs = []\n",
    "for log in glob.glob(f'{logs_folder}/*.log'):\n",
    "\tlogs.append(get_traj(log))\n"
   ]
  },
  {
   "cell_type": "code",
   "execution_count": 17,
   "metadata": {},
   "outputs": [
    {
     "name": "stdout",
     "output_type": "stream",
     "text": [
      "[5289, 5273, 4035, 3521, 5123, 4591] 27832\n"
     ]
    }
   ],
   "source": [
    "a = [len(s) for s, u in logs]\n",
    "print(a, sum(a))"
   ]
  }
 ],
 "metadata": {
  "kernelspec": {
   "display_name": "Python 3",
   "language": "python",
   "name": "python3"
  },
  "language_info": {
   "codemirror_mode": {
    "name": "ipython",
    "version": 3
   },
   "file_extension": ".py",
   "mimetype": "text/x-python",
   "name": "python",
   "nbconvert_exporter": "python",
   "pygments_lexer": "ipython3",
   "version": "3.10.12"
  }
 },
 "nbformat": 4,
 "nbformat_minor": 2
}
